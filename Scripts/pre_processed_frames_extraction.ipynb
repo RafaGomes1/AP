{
 "cells": [
  {
   "cell_type": "code",
   "execution_count": 2,
   "id": "a2b1c7ae",
   "metadata": {},
   "outputs": [
    {
     "name": "stdout",
     "output_type": "stream",
     "text": [
      "Ficheiro exportado com sucesso para: dataset\\filtered_osats2.csv\n"
     ]
    }
   ],
   "source": [
    "import os\n",
    "import pandas as pd\n",
    "\n",
    "# Caminhos\n",
    "excel_path = \"OSATS.xlsx\"\n",
    "videos_dir = \"Package02\"\n",
    "output_dir = \"dataset\"\n",
    "os.makedirs(output_dir, exist_ok=True)\n",
    "\n",
    "# 1. Carregar o Excel\n",
    "df = pd.read_excel(excel_path)\n",
    "\n",
    "# 2. Obter IDs dos vídeos disponíveis (.mp4 -> sem extensão)\n",
    "available_videos = [os.path.splitext(f)[0] for f in os.listdir(videos_dir) if f.endswith(\".mp4\")]\n",
    "\n",
    "# 3. Filtrar o DataFrame\n",
    "df_filtered = df[df['VIDEO'].isin(available_videos)]\n",
    "\n",
    "# 4. Selecionar apenas as colunas desejadas\n",
    "columns_to_keep = [\n",
    "    \"VIDEO\", \"SUTURES\", \"OSATS_RESPECT\", \"OSATS_MOTION\", \"OSATS_INSTRUMENT\",\n",
    "    \"OSATS_SUTURE\", \"OSATS_FLOW\", \"OSATS_KNOWLEDGE\",\n",
    "    \"OSATS_PERFORMANCE\", \"OSATS_FINAL_QUALITY\", \"GLOBA_RATING_SCORE\"\n",
    "]\n",
    "df_selected = df_filtered[columns_to_keep]\n",
    "\n",
    "# 5. Exportar para CSV\n",
    "output_path = os.path.join(output_dir, \"filtered_osats2.csv\")\n",
    "df_selected.to_csv(output_path, index=False)\n",
    "\n",
    "print(\"Ficheiro exportado com sucesso para:\", output_path)"
   ]
  },
  {
   "cell_type": "code",
   "execution_count": null,
   "id": "9e815917",
   "metadata": {},
   "outputs": [],
   "source": []
  }
 ],
 "metadata": {
  "kernelspec": {
   "display_name": "AP",
   "language": "python",
   "name": "python3"
  },
  "language_info": {
   "codemirror_mode": {
    "name": "ipython",
    "version": 3
   },
   "file_extension": ".py",
   "mimetype": "text/x-python",
   "name": "python",
   "nbconvert_exporter": "python",
   "pygments_lexer": "ipython3",
   "version": "3.12.9"
  }
 },
 "nbformat": 4,
 "nbformat_minor": 5
}
